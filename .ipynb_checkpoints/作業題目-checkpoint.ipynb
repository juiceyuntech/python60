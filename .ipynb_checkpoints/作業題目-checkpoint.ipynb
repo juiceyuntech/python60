{
 "cells": [
  {
   "cell_type": "markdown",
   "metadata": {
    "id": "5aWZnhxBD2p2"
   },
   "source": [
    "作業目標:<br>\r\n",
    "在array中，可以靈活應用索引幫助資料擷取<br>\r\n",
    "作業重點:<br>\r\n",
    "陣列的索引、切片、以及屬性，皆需要注意使用方式<br>\r\n",
    "陣列之中索引式由0開始請同學注意"
   ]
  },
  {
   "cell_type": "markdown",
   "metadata": {
    "id": "Ec7jpEEnD4rj"
   },
   "source": [
    "題目:<br>\r\n",
    "1.生成一個等差數列，首數為0，尾數為20，公差為1的數列。<br>\r\n",
    "2.呈上題，將以上數列取出偶數。<br>\r\n",
    "3.呈1題，將數列取出3的倍數。<br>"
   ]
  },
  {
   "cell_type": "code",
   "execution_count": null,
   "metadata": {
    "id": "NfVTcwauD3rg"
   },
   "outputs": [],
   "source": [
    "import numpy as np"
   ]
  },
  {
   "cell_type": "code",
   "execution_count": null,
   "metadata": {
    "id": "QrOaxfmeEpvo"
   },
   "outputs": [],
   "source": [
    "#1.生成一個等差數列，首數為0，尾數為20，公差為1的數列。\r\n"
   ]
  },
  {
   "cell_type": "code",
   "execution_count": null,
   "metadata": {
    "id": "5FFeFSvoEtRP"
   },
   "outputs": [],
   "source": [
    "#2.呈上題，將以上數列取出偶數。\r\n"
   ]
  },
  {
   "cell_type": "code",
   "execution_count": null,
   "metadata": {
    "id": "7-HcNGFsFD-_"
   },
   "outputs": [],
   "source": [
    "#3.呈1題，將數列取出3的倍數。\r\n"
   ]
  },
  {
   "cell_type": "code",
   "execution_count": null,
   "metadata": {
    "id": "6_6Emob-FHn3"
   },
   "outputs": [],
   "source": [
    ""
   ]
  }
 ],
 "metadata": {
  "colab": {
   "collapsed_sections": [],
   "name": "作業題目.ipynb",
   "provenance": []
  },
  "kernelspec": {
   "display_name": "Python 3",
   "name": "python3"
  }
 },
 "nbformat": 4,
 "nbformat_minor": 0
}
